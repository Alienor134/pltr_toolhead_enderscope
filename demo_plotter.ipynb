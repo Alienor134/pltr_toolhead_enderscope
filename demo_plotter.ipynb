{
 "cells": [
  {
   "cell_type": "markdown",
   "id": "0486e33e-f113-4151-8617-21a387a1cd20",
   "metadata": {},
   "source": [
    "## Enderscopy stage demo"
   ]
  },
  {
   "cell_type": "markdown",
   "id": "d6eb0aa1-8e2d-43c5-bccd-0f79bd5a49c1",
   "metadata": {},
   "source": [
    "### This notebook shows how to connect and drive an enderscope stage from Python."
   ]
  },
  {
   "cell_type": "code",
   "execution_count": 1,
   "id": "b70b5ea2-451c-456c-9c0a-170ae117e71c",
   "metadata": {},
   "outputs": [],
   "source": [
    "import time\n",
    "from enderscope import SerialUtils, Stage"
   ]
  },
  {
   "cell_type": "code",
   "execution_count": 2,
   "id": "e1107c2a-cdb5-44ab-aef0-5193c3684a15",
   "metadata": {},
   "outputs": [
    {
     "name": "stdout",
     "output_type": "stream",
     "text": [
      "['COM5', 'COM12']\n"
     ]
    }
   ],
   "source": [
    "# list available serial ports\n",
    "ports = SerialUtils.serial_ports()\n",
    "print (ports)"
   ]
  },
  {
   "cell_type": "code",
   "execution_count": 3,
   "id": "2f0ffc7c-3ac9-4622-bcf9-94d8b19523e4",
   "metadata": {},
   "outputs": [],
   "source": [
    "stageport = ports[0]"
   ]
  },
  {
   "cell_type": "code",
   "execution_count": 4,
   "id": "26b950d2-570e-4656-9f65-b9b196d140b1",
   "metadata": {},
   "outputs": [],
   "source": [
    "# connect to enderscope and create a stage object\n",
    "s = Stage(stageport, 115200)"
   ]
  },
  {
   "cell_type": "code",
   "execution_count": null,
   "id": "4ad9ed71-b8d2-46c7-bb9f-5cc987b17247",
   "metadata": {},
   "outputs": [],
   "source": [
    "    def gcode_to_string(self, filepath: str) -> str:\n",
    "        with open(filepath, \"r\", encoding=\"utf-8\") as f:\n",
    "            return f.read()\n",
    "\n",
    "    def read_gcode_file(self, filepath):\n",
    "        \"\"\"\n",
    "        Reads a G-code file and returns a list of commands (stripped of comments and whitespace).\n",
    "        \"\"\"\n",
    "        commands = []\n",
    "        with open(filepath, 'r') as f:\n",
    "            for line in f:\n",
    "                # Remove comments and whitespace\n",
    "                line = line.split(';')[0].strip()\n",
    "                if line:\n",
    "                    commands.append(line)\n",
    "        return commands\n",
    "        \n",
    "    def send_gcode_file(self, filepath, debug=False):\n",
    "        \"\"\"\n",
    "        Reads a G-code file and sends each command to the device.\n",
    "        \"\"\"\n",
    "        commands = self.read_gcode_file(filepath)\n",
    "        for code in commands:\n",
    "            self.write_code(code, debug=debug)"
   ]
  },
  {
   "cell_type": "code",
   "execution_count": null,
   "id": "173da044-30db-49bc-9eee-ec7f498b57eb",
   "metadata": {},
   "outputs": [],
   "source": [
    "from harmonogram import harmonogram\n",
    "import matplotlib.pyplot as plt\n",
    "max_val = 15 #s #number of points\n",
    "num_val = int(1e4) #step size\n",
    "X, Y = harmonogram(max_val, num_val)\n",
    "\n",
    "plt.axis(\"equal\")"
   ]
  },
  {
   "cell_type": "code",
   "execution_count": null,
   "id": "f5ceed78-928f-4e32-a8d4-5b13a14a9fbc",
   "metadata": {},
   "outputs": [],
   "source": [
    "X = X*30\n",
    "X = X-X.mean() + 80\n",
    "\n",
    "Y = Y*30\n",
    "Y = Y-Y.mean() + 120\n"
   ]
  },
  {
   "cell_type": "code",
   "execution_count": null,
   "id": "ef6903ef-a1a9-4874-baa4-40734b6aad99",
   "metadata": {},
   "outputs": [],
   "source": [
    "print(X.min(), X.max(), Y.min(), Y.max())\n"
   ]
  },
  {
   "cell_type": "code",
   "execution_count": null,
   "id": "c8e0258e-f136-40bb-860c-d0f894ad2b5c",
   "metadata": {},
   "outputs": [],
   "source": [
    "s.move_absolute(x = X.min(), y = Y.min())\n"
   ]
  },
  {
   "cell_type": "code",
   "execution_count": null,
   "id": "c3c89e0d-ae08-4887-8c8d-97cfd3e6af64",
   "metadata": {},
   "outputs": [],
   "source": [
    "s.move_absolute(x = X.max(), y = Y.max())\n"
   ]
  },
  {
   "cell_type": "code",
   "execution_count": null,
   "id": "335e4e5d-8ad4-43d9-a500-c0dd6412e736",
   "metadata": {},
   "outputs": [],
   "source": [
    "\n",
    "\n",
    "s.move_absolute(x = X[0], y = Y[0])"
   ]
  },
  {
   "cell_type": "code",
   "execution_count": null,
   "id": "5cb238bd-695c-4d08-bb15-4ec2ef2d9565",
   "metadata": {},
   "outputs": [],
   "source": [
    "s.move_absolute(x = X[0], y = Y[0], z = 15)\n"
   ]
  },
  {
   "cell_type": "code",
   "execution_count": null,
   "id": "7b398eb7-ba1e-4d81-afff-815d1f17b539",
   "metadata": {},
   "outputs": [],
   "source": [
    "for (x,y) in zip(X,Y):\n",
    "    s.move_absolute(x = x, y = y)"
   ]
  },
  {
   "cell_type": "code",
   "execution_count": null,
   "id": "c8a16e6b-e5e6-424a-8c85-1b6dd590776f",
   "metadata": {},
   "outputs": [],
   "source": [
    "gcode_str = s.gcode_to_string(\"dessin.txt\")\n",
    "print(gcode_str)"
   ]
  },
  {
   "cell_type": "code",
   "execution_count": null,
   "id": "6b3de5af-2fd0-47f5-a321-d53c4e9a6b45",
   "metadata": {},
   "outputs": [],
   "source": [
    "s.write_code(gcode_str)"
   ]
  },
  {
   "cell_type": "code",
   "execution_count": 9,
   "id": "bbb83d0c-66d0-49db-a24a-5f8b74e234f4",
   "metadata": {},
   "outputs": [],
   "source": [
    "s.send_gcode_file(\"dessin2.gcode\")"
   ]
  }
 ],
 "metadata": {
  "kernelspec": {
   "display_name": "Python 3 (ipykernel)",
   "language": "python",
   "name": "python3"
  },
  "language_info": {
   "codemirror_mode": {
    "name": "ipython",
    "version": 3
   },
   "file_extension": ".py",
   "mimetype": "text/x-python",
   "name": "python",
   "nbconvert_exporter": "python",
   "pygments_lexer": "ipython3",
   "version": "3.11.13"
  }
 },
 "nbformat": 4,
 "nbformat_minor": 5
}
